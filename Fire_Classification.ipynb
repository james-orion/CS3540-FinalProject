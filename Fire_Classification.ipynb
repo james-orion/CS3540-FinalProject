{
 "cells": [
  {
   "cell_type": "code",
   "execution_count": null,
   "metadata": {
    "executionInfo": {
     "elapsed": 169,
     "status": "ok",
     "timestamp": 1729089299981,
     "user": {
      "displayName": "James Neisen",
      "userId": "08006202231401174681"
     },
     "user_tz": 240
    },
    "id": "4qApBrq4qnAg"
   },
   "outputs": [],
   "source": [
    "# I don't have tensorflow and wasn't using it so commented out to make the logreg and svm models\n",
    "# import tensorflow as tf\n",
    "# from tensorflow.keras import datasets, layers, models\n",
    "import numpy as np\n",
    "import matplotlib.pyplot as plt\n",
    "import pandas as pd\n",
    "\n",
    "from PIL import Image\n",
    "\n",
    "# sklearn utilities\n",
    "from sklearn import datasets\n",
    "from sklearn.model_selection import train_test_split\n",
    "from sklearn.metrics import confusion_matrix, classification_report\n",
    "\n",
    "# sklearn models\n",
    "from sklearn.linear_model import LogisticRegression\n",
    "from sklearn.tree import DecisionTreeClassifier\n",
    "from sklearn.svm import SVC\n",
    "from sklearn.ensemble import RandomForestClassifier\n",
    "from sklearn.decomposition import PCA"
   ]
  },
  {
   "cell_type": "code",
   "execution_count": null,
   "metadata": {
    "executionInfo": {
     "elapsed": 366364,
     "status": "ok",
     "timestamp": 1729088082432,
     "user": {
      "displayName": "James Neisen",
      "userId": "08006202231401174681"
     },
     "user_tz": 240
    },
    "id": "LdZIPx6iqupx"
   },
   "outputs": [],
   "source": [
    "# Adds images to array\n",
    "images = np.zeros((2000, 250, 250, 3)) # I changed this to be the actual dimensions that np.asarray will copy into\n",
    "j = 0\n",
    "for i in range(1522): # Our ranges were off by 1 so I fixed that\n",
    "  try:\n",
    "    image_name = 'F_' + str(i) + '.jpg'\n",
    "    path = \"Fire/\" + image_name\n",
    "    image = (Image.open(path))\n",
    "    img = np.asarray(image)\n",
    "    images[j] = np.copy(img)\n",
    "    j = j+1\n",
    "  except:\n",
    "    continue"
   ]
  },
  {
   "cell_type": "code",
   "execution_count": null,
   "metadata": {
    "executionInfo": {
     "elapsed": 643707,
     "status": "ok",
     "timestamp": 1729088730910,
     "user": {
      "displayName": "James Neisen",
      "userId": "08006202231401174681"
     },
     "user_tz": 240
    },
    "id": "1XmtBx9KuUEq"
   },
   "outputs": [],
   "source": [
    "for i in range(1011): # Range was off by 1 like above\n",
    "  try:\n",
    "    image_name = 'NF_' + str(i) + '.jpg'\n",
    "    path = 'Non_Fire/' + image_name\n",
    "    image = (Image.open(path))\n",
    "    img = np.asarray(image)\n",
    "    images[j] = np.copy(img)\n",
    "    j = j+1\n",
    "  except:\n",
    "    continue"
   ]
  },
  {
   "cell_type": "code",
   "execution_count": null,
   "metadata": {
    "executionInfo": {
     "elapsed": 248,
     "status": "ok",
     "timestamp": 1729088735357,
     "user": {
      "displayName": "James Neisen",
      "userId": "08006202231401174681"
     },
     "user_tz": 240
    },
    "id": "Cqv-33Ts8AV6"
   },
   "outputs": [],
   "source": [
    "targets = np.zeros(2000)\n",
    "for i in range(1000):\n",
    "  targets[i] = 1"
   ]
  },
  {
   "cell_type": "code",
   "execution_count": null,
   "metadata": {},
   "outputs": [],
   "source": [
    "# For genuine results don't set a random_state\n",
    "x_train, x_test, y_train, y_test = train_test_split(images, targets, test_size=.25, random_state=0)"
   ]
  },
  {
   "cell_type": "code",
   "execution_count": null,
   "metadata": {},
   "outputs": [],
   "source": [
    "# Confirm shape of data and targets\n",
    "print(\"Training x:\", x_train.shape,\"y:\", y_train.shape)\n",
    "print(\"Testing x:\", x_test.shape,\"y:\", y_test.shape)"
   ]
  },
  {
   "cell_type": "code",
   "execution_count": null,
   "metadata": {},
   "outputs": [],
   "source": [
    "# Reduce x to 2d arrays for logreg\n",
    "x_train_flat = x_train.reshape((1500, 187500))\n",
    "x_test_flat = x_test.reshape((500, 187500))"
   ]
  },
  {
   "cell_type": "code",
   "execution_count": null,
   "metadata": {},
   "outputs": [],
   "source": [
    "logreg_model = LogisticRegression()\n",
    "logreg_model.fit(x_train_flat, y_train)\n",
    "logreg_results = logreg_model.predict(x_test_flat)"
   ]
  },
  {
   "cell_type": "code",
   "execution_count": null,
   "metadata": {},
   "outputs": [],
   "source": [
    "logreg_conf_matrix = confusion_matrix(y_test, logreg_results)\n",
    "pd.DataFrame(logreg_conf_matrix, columns=[0, 1], index=[0,1])"
   ]
  },
  {
   "cell_type": "code",
   "execution_count": null,
   "metadata": {},
   "outputs": [],
   "source": [
    "print(classification_report(y_test, logreg_results))"
   ]
  },
  {
   "cell_type": "code",
   "execution_count": null,
   "metadata": {},
   "outputs": [],
   "source": [
    "svm_model = SVC(kernel='linear')\n",
    "svm_model.fit(x_train_flat, y_train)\n",
    "svm_results = svm_model.predict(x_test_flat)"
   ]
  },
  {
   "cell_type": "code",
   "execution_count": null,
   "metadata": {},
   "outputs": [],
   "source": [
    "svm_conf_matrix = confusion_matrix(y_test, svm_results)\n",
    "pd.DataFrame(svm_conf_matrix, columns=[0, 1], index=[0,1])"
   ]
  },
  {
   "cell_type": "code",
   "execution_count": null,
   "metadata": {},
   "outputs": [],
   "source": [
    "print(classification_report(y_test, svm_results))"
   ]
  },
  {
   "cell_type": "markdown",
   "metadata": {},
   "source": [
    "# Below here is using DataFrame and Convolutional Neural Network (CNN)"
   ]
  },
  {
   "cell_type": "code",
   "execution_count": null,
   "metadata": {
    "executionInfo": {
     "elapsed": 172,
     "status": "ok",
     "timestamp": 1729088807576,
     "user": {
      "displayName": "James Neisen",
      "userId": "08006202231401174681"
     },
     "user_tz": 240
    },
    "id": "e4DP17jn5Uuj"
   },
   "outputs": [],
   "source": [
    "# This will make the images array 2d so it can be better converted into a dataframe and csv\n",
    "images = images.reshape((2000, 187500))\n",
    "df = pd.DataFrame(images)\n",
    "df['target'] = targets"
   ]
  },
  {
   "cell_type": "code",
   "execution_count": null,
   "metadata": {
    "executionInfo": {
     "elapsed": 1531,
     "status": "ok",
     "timestamp": 1729088813345,
     "user": {
      "displayName": "James Neisen",
      "userId": "08006202231401174681"
     },
     "user_tz": 240
    },
    "id": "_Oz6otJ-t3vx"
   },
   "outputs": [],
   "source": [
    "# Shuffles df so we can split into test/train\n",
    "df = df.sample(frac = 1)\n",
    "df.head()"
   ]
  },
  {
   "cell_type": "code",
   "execution_count": null,
   "metadata": {
    "executionInfo": {
     "elapsed": 365,
     "status": "ok",
     "timestamp": 1729089131607,
     "user": {
      "displayName": "James Neisen",
      "userId": "08006202231401174681"
     },
     "user_tz": 240
    },
    "id": "btnZNvV5uawx"
   },
   "outputs": [],
   "source": [
    "train_data = df[:1500]\n",
    "test_data = df[1500:]"
   ]
  },
  {
   "cell_type": "code",
   "execution_count": null,
   "metadata": {},
   "outputs": [],
   "source": [
    "train_images = np.asarray(train_data)\n",
    "train_targets = train_images[: ,-1]\n",
    "train_images_minus_targets = np.delete(train_images, -1, axis=1)\n",
    "\n",
    "test_images = np.asarray(test_data)\n",
    "test_targets = test_images[: ,-1]\n",
    "test_images_minus_targets = np.delete(test_images, -1, axis=1)"
   ]
  },
  {
   "cell_type": "code",
   "execution_count": null,
   "metadata": {},
   "outputs": [],
   "source": [
    "train_images_minus_targets = np.reshape(train_images_minus_targets, (1500, 250, 250, 3))\n",
    "test_images_minus_targets = np.reshape(test_images_minus_targets, (500, 250, 250, 3))"
   ]
  },
  {
   "cell_type": "code",
   "execution_count": null,
   "metadata": {
    "colab": {
     "base_uri": "https://localhost:8080/"
    },
    "executionInfo": {
     "elapsed": 369,
     "status": "ok",
     "timestamp": 1729089344393,
     "user": {
      "displayName": "James Neisen",
      "userId": "08006202231401174681"
     },
     "user_tz": 240
    },
    "id": "oJNrUxAcvnjJ",
    "outputId": "e89752cd-f1ce-4005-d78b-b906b6eeb267"
   },
   "outputs": [],
   "source": [
    "model = models.Sequential()\n",
    "model.add(layers.Conv2D(250, (3, 3), activation='relu', input_shape=(250, 250, 3)))\n",
    "model.add(layers.MaxPooling2D((2, 2)))\n",
    "model.add(layers.Conv2D(500, (3, 3), activation='relu'))\n",
    "model.add(layers.MaxPooling2D((2, 2)))\n",
    "model.add(layers.Conv2D(500, (3, 3), activation='relu'))"
   ]
  },
  {
   "cell_type": "code",
   "execution_count": null,
   "metadata": {
    "colab": {
     "base_uri": "https://localhost:8080/",
     "height": 298
    },
    "executionInfo": {
     "elapsed": 178,
     "status": "ok",
     "timestamp": 1729089387684,
     "user": {
      "displayName": "James Neisen",
      "userId": "08006202231401174681"
     },
     "user_tz": 240
    },
    "id": "hRqjBErTwir6",
    "outputId": "a405c897-870d-4773-e090-82520d0b6bfa"
   },
   "outputs": [],
   "source": [
    "model.summary()"
   ]
  },
  {
   "cell_type": "code",
   "execution_count": null,
   "metadata": {
    "id": "ukIudh-NwvfU"
   },
   "outputs": [],
   "source": [
    "model.add(layers.Flatten())\n",
    "model.add(layers.Dense(500, activation='relu'))\n",
    "model.add(layers.Dense(2))"
   ]
  },
  {
   "cell_type": "code",
   "execution_count": null,
   "metadata": {},
   "outputs": [],
   "source": [
    "model.summary()"
   ]
  },
  {
   "cell_type": "code",
   "execution_count": null,
   "metadata": {},
   "outputs": [],
   "source": [
    "model.compile(optimizer='adam',\n",
    "              loss=tf.keras.losses.SparseCategoricalCrossentropy(from_logits=True),\n",
    "              metrics=['accuracy'])\n",
    "\n",
    "history = model.fit(train_images_minus_targets, train_targets, epochs=10, \n",
    "                    validation_data=(test_images_minus_targets, test_targets))"
   ]
  }
 ],
 "metadata": {
  "colab": {
   "provenance": []
  },
  "kernelspec": {
   "display_name": "Python 3 (ipykernel)",
   "language": "python",
   "name": "python3"
  },
  "language_info": {
   "codemirror_mode": {
    "name": "ipython",
    "version": 3
   },
   "file_extension": ".py",
   "mimetype": "text/x-python",
   "name": "python",
   "nbconvert_exporter": "python",
   "pygments_lexer": "ipython3",
   "version": "3.12.4"
  }
 },
 "nbformat": 4,
 "nbformat_minor": 4
}
