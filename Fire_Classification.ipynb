{
 "cells": [
  {
   "cell_type": "code",
   "execution_count": null,
   "metadata": {
    "id": "4qApBrq4qnAg"
   },
   "outputs": [],
   "source": [
    "import tensorflow as tf\n",
    "from tensorflow.keras import layers, models\n",
    "import numpy as np\n",
    "import matplotlib.pyplot as plt\n",
    "import pandas as pd\n",
    "\n",
    "from PIL import Image\n",
    "\n",
    "# sklearn utilities\n",
    "from sklearn.preprocessing import normalize\n",
    "from sklearn.model_selection import train_test_split\n",
    "from sklearn.metrics import confusion_matrix, classification_report\n",
    "\n",
    "# sklearn models\n",
    "from sklearn.linear_model import LogisticRegression\n",
    "from sklearn.svm import SVC\n",
    "from sklearn.decomposition import PCA"
   ]
  },
  {
   "cell_type": "markdown",
   "metadata": {
    "id": "VWRf5GMwqg09"
   },
   "source": [
    "# Mount drive and build path (only necessary if using Google Colab)"
   ]
  },
  {
   "cell_type": "code",
   "execution_count": null,
   "metadata": {
    "colab": {
     "base_uri": "https://localhost:8080/"
    },
    "id": "VN7iHLX-pcXV",
    "outputId": "f2cb0bc9-8a7c-4ddd-a2d4-c13a76a9d157"
   },
   "outputs": [],
   "source": [
    "# from google.colab import drive\n",
    "# drive.mount('/content/drive/')"
   ]
  },
  {
   "cell_type": "code",
   "execution_count": null,
   "metadata": {
    "colab": {
     "base_uri": "https://localhost:8080/"
    },
    "id": "BlAYFvZ6pepg",
    "outputId": "096f8db4-dd4d-4f92-959f-4d0fdd6b2901"
   },
   "outputs": [],
   "source": [
    "# import os\n",
    "\n",
    "# GOOGLE_DRIVE_PATH_AFTER_MYDRIVE = 'CS3540/Final-Project' # change this directory to yours\n",
    "# GOOGLE_DRIVE_PATH = os.path.join('drive', 'MyDrive', GOOGLE_DRIVE_PATH_AFTER_MYDRIVE)\n",
    "# print(GOOGLE_DRIVE_PATH)\n",
    "# print(os.listdir(GOOGLE_DRIVE_PATH))"
   ]
  },
  {
   "cell_type": "markdown",
   "metadata": {
    "id": "F8yo8LdomMxX"
   },
   "source": [
    "# Load image pixel values into array as features and create target array"
   ]
  },
  {
   "cell_type": "code",
   "execution_count": null,
   "metadata": {
    "id": "LdZIPx6iqupx"
   },
   "outputs": [],
   "source": [
    "# Adds fire images to array\n",
    "images = np.zeros((2000, 250, 250, 3))\n",
    "j = 0\n",
    "for i in range(1522):\n",
    "  try:\n",
    "    image_name = 'F_' + str(i) + '.jpg'\n",
    "    path = \"Fire/\" + image_name\n",
    "    image = (Image.open(path))\n",
    "    img = np.asarray(image)\n",
    "    images[j] = np.copy(img)\n",
    "    j = j+1\n",
    "  except:\n",
    "    continue"
   ]
  },
  {
   "cell_type": "code",
   "execution_count": null,
   "metadata": {
    "id": "1XmtBx9KuUEq"
   },
   "outputs": [],
   "source": [
    "# Adds non-fire images to array\n",
    "for i in range(1011):\n",
    "  try:\n",
    "    image_name = 'NF_' + str(i) + '.jpg'\n",
    "    path = 'Non_Fire/' + image_name\n",
    "    image = (Image.open(path))\n",
    "    img = np.asarray(image)\n",
    "    images[j] = np.copy(img)\n",
    "    j = j+1\n",
    "  except:\n",
    "    continue"
   ]
  },
  {
   "cell_type": "code",
   "execution_count": null,
   "metadata": {
    "id": "Cqv-33Ts8AV6"
   },
   "outputs": [],
   "source": [
    "# Create targets array which maps to features array\n",
    "targets = np.zeros(2000)\n",
    "for i in range(1000):\n",
    "  targets[i] = 1"
   ]
  },
  {
   "cell_type": "code",
   "execution_count": null,
   "metadata": {
    "id": "5Z25d5FJteoD"
   },
   "outputs": [],
   "source": [
    "  # Only run this if you have .npz file saved - make sure path is correct\n",
    "  # <15 seconds to load\n",
    "# images = np.load('images.npz')['data']"
   ]
  },
  {
   "cell_type": "markdown",
   "metadata": {
    "id": "Aq89iaw9nGRs"
   },
   "source": [
    "# Preprocess data and apply random split"
   ]
  },
  {
   "cell_type": "code",
   "execution_count": null,
   "metadata": {
    "id": "qwuOylg2kgp3"
   },
   "outputs": [],
   "source": [
    "# Flatten and normalize features array for use with PCA\n",
    "images_flat = images.reshape((2000, 187500))\n",
    "images_norm = normalize(images_flat)"
   ]
  },
  {
   "cell_type": "code",
   "execution_count": null,
   "metadata": {
    "id": "iuBPis__kgp4"
   },
   "outputs": [],
   "source": [
    "# Apply PCA feature reduction\n",
    "pca = PCA(10)\n",
    "transformed_data = pca.fit_transform(images_norm)\n",
    "\n",
    "# Split data and plot scatter plot\n",
    "# plot_x, plot_y = np.hsplit(transformed_data, 2)\n",
    "# scatter = plt.scatter(plot_x, plot_y, c=targets)\n",
    "# plt.legend(*scatter.legend_elements(), loc='upper left')"
   ]
  },
  {
   "cell_type": "code",
   "execution_count": null,
   "metadata": {
    "id": "IDnA9Nz9kgp4"
   },
   "outputs": [],
   "source": [
    "# Apply train/test split of 75/25\n",
    "x_train, x_test, y_train, y_test = train_test_split(transformed_data, targets, test_size=.25)\n",
    "x_train_cnn, x_test_cnn, y_train_cnn, y_test_cnn = train_test_split(images_norm, targets, test_size=.25)"
   ]
  },
  {
   "cell_type": "code",
   "execution_count": null,
   "metadata": {
    "colab": {
     "base_uri": "https://localhost:8080/"
    },
    "id": "MrZBUTFhkgp4",
    "outputId": "ecfbf599-9018-448b-b636-3b469c3b5f0b"
   },
   "outputs": [],
   "source": [
    "# Confirm shape of features and targets\n",
    "print(\"Training x:\", x_train.shape,\"y:\", y_train.shape)\n",
    "print(\"Testing x:\", x_test.shape,\"y:\", y_test.shape)"
   ]
  },
  {
   "cell_type": "markdown",
   "metadata": {
    "id": "2n6oI69fnTC1"
   },
   "source": [
    "# Logistic Regression"
   ]
  },
  {
   "cell_type": "code",
   "execution_count": null,
   "metadata": {
    "id": "ey1jvni3kgp5"
   },
   "outputs": [],
   "source": [
    "# Run Logistic Regression model\n",
    "logreg_model = LogisticRegression()\n",
    "logreg_model.fit(x_train, y_train)\n",
    "logreg_results = logreg_model.predict(x_test)"
   ]
  },
  {
   "cell_type": "code",
   "execution_count": null,
   "metadata": {
    "colab": {
     "base_uri": "https://localhost:8080/",
     "height": 112
    },
    "id": "MoT4Vl9Hkgp5",
    "outputId": "09d53d4d-cc37-4aac-f30b-8e2c2aa5e78e"
   },
   "outputs": [],
   "source": [
    "# Build and display confusion matrix\n",
    "logreg_conf_matrix = confusion_matrix(y_test, logreg_results)\n",
    "pd.DataFrame(logreg_conf_matrix, columns=[0, 1], index=[0,1])"
   ]
  },
  {
   "cell_type": "code",
   "execution_count": null,
   "metadata": {
    "colab": {
     "base_uri": "https://localhost:8080/"
    },
    "id": "4buhO0fdkgp5",
    "outputId": "5bc407db-a4b6-401c-85f0-706714b0ace2"
   },
   "outputs": [],
   "source": [
    "# Run classification report on Logistic Regression results\n",
    "print(classification_report(y_test, logreg_results))"
   ]
  },
  {
   "cell_type": "markdown",
   "metadata": {
    "id": "WcQW_At2nWCJ"
   },
   "source": [
    "# SVM"
   ]
  },
  {
   "cell_type": "code",
   "execution_count": null,
   "metadata": {
    "id": "3r9PiQfIkgp5"
   },
   "outputs": [],
   "source": [
    "# Run SVM model\n",
    "svm_model = SVC(kernel='rbf')\n",
    "svm_model.fit(x_train, y_train)\n",
    "svm_results = svm_model.predict(x_test)"
   ]
  },
  {
   "cell_type": "code",
   "execution_count": null,
   "metadata": {
    "colab": {
     "base_uri": "https://localhost:8080/",
     "height": 112
    },
    "id": "dCVUGrtVkgp6",
    "outputId": "b807e689-d6fd-4f48-8320-5ee304118769"
   },
   "outputs": [],
   "source": [
    "# Build and display confusion matrix\n",
    "svm_conf_matrix = confusion_matrix(y_test, svm_results)\n",
    "pd.DataFrame(svm_conf_matrix, columns=[0, 1], index=[0,1])"
   ]
  },
  {
   "cell_type": "code",
   "execution_count": null,
   "metadata": {
    "colab": {
     "base_uri": "https://localhost:8080/"
    },
    "id": "Co1kMITdkgp6",
    "outputId": "f67b1041-d23f-4a44-f4a8-1567e3eee035"
   },
   "outputs": [],
   "source": [
    "# Run classification report on SVM results\n",
    "print(classification_report(y_test, svm_results))"
   ]
  },
  {
   "cell_type": "markdown",
   "metadata": {
    "id": "4yyf9ahDkgp6"
   },
   "source": [
    "# CNN"
   ]
  },
  {
   "cell_type": "code",
   "execution_count": null,
   "metadata": {
    "id": "YAZihyVukgp7"
   },
   "outputs": [],
   "source": [
    "# Reshape features to original dimensions\n",
    "x_train_cnn = np.reshape(x_train_cnn, (1500, 250, 250, 3))\n",
    "y_train_cnn = np.reshape(y_train_cnn, (1500, 1)) # is this necessary?\n",
    "x_test_cnn = np.reshape(x_test_cnn, (500, 250, 250, 3))\n",
    "y_test_cnn = np.reshape(y_test_cnn, (500, 1)) # is this necessary?"
   ]
  },
  {
   "cell_type": "code",
   "execution_count": null,
   "metadata": {
    "id": "9Glr6t8jkgp8"
   },
   "outputs": [],
   "source": [
    "# Apply train/validation split of 80/20\n",
    "xtrain, xval, ytrain, yval = train_test_split(x_train_cnn, y_train_cnn, test_size=0.20)"
   ]
  },
  {
   "cell_type": "code",
   "execution_count": null,
   "metadata": {
    "colab": {
     "base_uri": "https://localhost:8080/"
    },
    "id": "oJNrUxAcvnjJ",
    "outputId": "584f5729-132c-40ff-f6a3-17dfccf917d4"
   },
   "outputs": [],
   "source": [
    "# Build CNN model\n",
    "model = models.Sequential()\n",
    "model.add(layers.Conv2D(16, (3, 3), activation='relu', input_shape=(250, 250, 3)))\n",
    "model.add(layers.MaxPooling2D((2, 2)))\n",
    "model.add(layers.Conv2D(32, (3, 3), activation='relu'))\n",
    "model.add(layers.MaxPooling2D((2, 2)))\n",
    "model.add(layers.Conv2D(32, (3, 3), activation='relu'))\n",
    "model.add(layers.Conv2D(32, (3, 3), activation='relu'))\n",
    "\n",
    "model.add(layers.Flatten())\n",
    "model.add(layers.Dense(32, activation='relu'))\n",
    "model.add(layers.Dense(2))\n",
    "\n",
    "# Display model summary\n",
    "model.summary()"
   ]
  },
  {
   "cell_type": "code",
   "execution_count": null,
   "metadata": {
    "id": "6JqTlOV9kgp-"
   },
   "outputs": [],
   "source": [
    "# Compile and train model\n",
    "model.compile(optimizer='adam',\n",
    "              loss=tf.keras.losses.SparseCategoricalCrossentropy(from_logits=True),\n",
    "              metrics=['accuracy'])\n",
    "\n",
    "history = model.fit(xtrain, ytrain, epochs=15, validation_data=(xval, yval))"
   ]
  },
  {
   "cell_type": "code",
   "execution_count": null,
   "metadata": {
    "id": "K0BUmTfWkgp_",
    "outputId": "68b5e63f-2532-4dd0-c36a-9a9610c57e61"
   },
   "outputs": [],
   "source": [
    "# Plot training and validation accuracy graph over epochs\n",
    "plt.plot(history.history['accuracy'], label=\"accuracy\")\n",
    "plt.plot(history.history['val_accuracy'], label=\"val_accuracy\")\n",
    "plt.legend()\n",
    "plt.show()"
   ]
  },
  {
   "cell_type": "code",
   "execution_count": null,
   "metadata": {},
   "outputs": [],
   "source": [
    "# Plot training and validation accuracy graph over epochs\n",
    "plt.plot(history.history['loss'], label=\"loss\")\n",
    "plt.plot(history.history['val_loss'], label=\"val_loss\")\n",
    "plt.legend()\n",
    "plt.show()"
   ]
  },
  {
   "cell_type": "code",
   "execution_count": null,
   "metadata": {
    "id": "KPB3e_EDkgp_",
    "outputId": "ee5613da-6a73-4749-84e2-1c1fbbeb3327"
   },
   "outputs": [],
   "source": [
    "# Evaluate model on test data\n",
    "model.evaluate(x_test_cnn, y_test_cnn)"
   ]
  }
 ],
 "metadata": {
  "colab": {
   "provenance": []
  },
  "kernelspec": {
   "display_name": "Python 3 (ipykernel)",
   "language": "python",
   "name": "python3"
  },
  "language_info": {
   "codemirror_mode": {
    "name": "ipython",
    "version": 3
   },
   "file_extension": ".py",
   "mimetype": "text/x-python",
   "name": "python",
   "nbconvert_exporter": "python",
   "pygments_lexer": "ipython3",
   "version": "3.12.0"
  }
 },
 "nbformat": 4,
 "nbformat_minor": 4
}
